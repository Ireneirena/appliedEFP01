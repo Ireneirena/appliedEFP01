{
 "cells": [
  {
   "cell_type": "markdown",
   "id": "a47de5d6-e779-4220-9c73-a4f6f0f88e84",
   "metadata": {},
   "source": [
    "*Based on kaggle tutorials https://www.kaggle.com/*"
   ]
  },
  {
   "cell_type": "code",
   "execution_count": null,
   "id": "ee73e833-bc8f-42c8-9550-e042e300a277",
   "metadata": {},
   "outputs": [],
   "source": [
    "# Imports\n",
    "import pandas as pd"
   ]
  },
  {
   "cell_type": "markdown",
   "id": "6422fdcf-5a40-4e7e-a8eb-c4eb29b6387e",
   "metadata": {},
   "source": [
    "## Question 1\n",
    "\n",
    " - Υπολογίστε τον συνολικό αριθμό των δευτερολέπτων σε 4 χρόνια έτος."
   ]
  },
  {
   "cell_type": "code",
   "execution_count": null,
   "id": "c1284a69-16b7-403c-a942-aaf842861436",
   "metadata": {},
   "outputs": [],
   "source": [
    "# Create variables\n",
    "num_years = ____\n",
    "days_per_year = ____\n",
    "hours_per_day = ____\n",
    "mins_per_hour = ____\n",
    "secs_per_min = ____\n",
    "\n",
    "# Calculate number of seconds in four years\n",
    "total_secs = ____"
   ]
  },
  {
   "cell_type": "markdown",
   "id": "5696f909-5718-47aa-a009-742d37a185af",
   "metadata": {},
   "source": [
    " - Ορίστε μια μεταβλητή `births_per_min` και ορίστε την σε 267. (Υπάρχουν κατά μέσο όρο 267 μωρά που γεννιούνται κάθε λεπτό.)\n",
    " - Ορίστε μια μεταβλητή `births_per_day` που περιέχει τον μέσο αριθμό μωρών που γεννιούνται κάθε μέρα. "
   ]
  },
  {
   "cell_type": "code",
   "execution_count": null,
   "id": "323d5413-d013-4f38-8ea0-1063bad0544b",
   "metadata": {},
   "outputs": [],
   "source": []
  },
  {
   "cell_type": "markdown",
   "id": "0d517cc1-16a4-45f9-bfe9-e68713e291ca",
   "metadata": {},
   "source": [
    "## 🌶️ Question 2\n",
    "\n",
    "Εκτελέστε το επόμενο κελί κώδικα χωρίς αλλαγές για να φορτώσετε και να κάνετε προεπισκόπηση των δεδομένων.\n",
    "\n",
    "\n"
   ]
  },
  {
   "cell_type": "code",
   "execution_count": null,
   "id": "5b727fe2-d45a-4c68-89f4-24b8058142cd",
   "metadata": {},
   "outputs": [],
   "source": [
    "# Load the data \n",
    "import pandas as pd\n",
    "titanic_data = pd.read_csv(\"data/titanic/train.csv\")\n",
    "\n",
    "# Show the first five rows of the data\n",
    "titanic_data.head()"
   ]
  },
  {
   "cell_type": "markdown",
   "id": "089c2139-1266-47aa-89b1-485c28ece0d9",
   "metadata": {},
   "source": [
    "Τα δεδομένα έχουν διαφορετική σειρά για κάθε επιβάτη.\n",
    "\n",
    "Το επόμενο κελί κώδικα ορίζει και εκτυπώνει τις τιμές τριών μεταβλητών:\n",
    "\n",
    " - `total` = συνολικός αριθμός επιβατών που επιβιβάστηκαν στο πλοίο\n",
    " - `survived` = αριθμός επιβατών που επέζησαν από το ναυάγιο\n",
    " - `minors` = αριθμός επιβατών κάτω των 18 ετών"
   ]
  },
  {
   "cell_type": "code",
   "execution_count": null,
   "id": "ce794363-3de6-4c66-b647-15f4bb623b58",
   "metadata": {},
   "outputs": [],
   "source": [
    "# Number of total passengers\n",
    "total = len(titanic_data)\n",
    "print(total)\n",
    "\n",
    "# Number of passengers who survived\n",
    "survived = (titanic_data.Survived == 1).sum()\n",
    "print(survived)\n",
    "\n",
    "# Number of passengers under 18\n",
    "minors = (titanic_data.Age < 18).sum()\n",
    "print(minors)"
   ]
  },
  {
   "cell_type": "markdown",
   "id": "732bb0d4-7bc8-449f-be1d-a55c66409aab",
   "metadata": {},
   "source": [
    "Στο παρακάτω κελί κώδικα, αντικαταστήστε τις υπογραμμίσεις (____) με κώδικα για να υπολογίσετε τις τιμές για δύο ακόμη μεταβλητές:\n",
    "\n",
    " - `surved_fraction` θα πρέπει να οριστεί το κλάσμα των επιβατών που επέζησαν από την καταστροφή του Τιτανικού.\n",
    " - `minors_fraction` θα πρέπει να είναι το κλάσμα των επιβατών που ήταν ανήλικοι (κάτω των 18 ετών)."
   ]
  },
  {
   "cell_type": "code",
   "execution_count": null,
   "id": "5ed6a81c-2b27-4fe4-9c12-e22cc8060897",
   "metadata": {},
   "outputs": [],
   "source": [
    "# TODO: Fill in the value of the survived_fraction variable\n",
    "survived_fraction = ____ \n",
    "\n",
    "# Print the value of the variable\n",
    "print(survived_fraction)\n",
    "\n",
    "# TODO: Fill in the value of the minors_fraction variable\n",
    "minors_fraction = ____ \n",
    "\n",
    "# Print the value of the variable\n",
    "print(minors_fraction)"
   ]
  }
 ],
 "metadata": {
  "kernelspec": {
   "display_name": "Python 3.10.6 64-bit",
   "language": "python",
   "name": "python3"
  },
  "language_info": {
   "codemirror_mode": {
    "name": "ipython",
    "version": 3
   },
   "file_extension": ".py",
   "mimetype": "text/x-python",
   "name": "python",
   "nbconvert_exporter": "python",
   "pygments_lexer": "ipython3",
   "version": "3.10.6"
  },
  "vscode": {
   "interpreter": {
    "hash": "916dbcbb3f70747c44a77c7bcd40155683ae19c65e1c03b4aa3499c5328201f1"
   }
  }
 },
 "nbformat": 4,
 "nbformat_minor": 5
}
