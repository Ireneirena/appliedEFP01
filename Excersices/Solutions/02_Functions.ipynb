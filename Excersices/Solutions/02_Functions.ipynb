{
 "cells": [
  {
   "cell_type": "markdown",
   "id": "2539aa6f-a940-488a-95ae-40aa313acf12",
   "metadata": {},
   "source": [
    "*Based on kaggle tutorials https://www.kaggle.com/*"
   ]
  },
  {
   "cell_type": "code",
   "execution_count": 1,
   "id": "dc88a559-c96b-41d1-962a-4087f7672915",
   "metadata": {},
   "outputs": [],
   "source": [
    "# Imports\n",
    "import pandas as pd\n",
    "import math"
   ]
  },
  {
   "cell_type": "markdown",
   "id": "5b82d413-ae86-42e9-803c-a26db0b328aa",
   "metadata": {},
   "source": [
    "## Question 1\n",
    "Στο επόμενο κελί κώδικα, δημιουργήστε μια συνάρτηση `get_expected_cost()` που έχει δύο ορίσματα:\n",
    "\n",
    "- `bedrooms` - αριθμός υπνοδωματίων\n",
    "- `baths` - αριθμός μπάνιων\n",
    "\n",
    "Θα πρέπει να επιστρέψει το αναμενόμενο κόστος ενός σπιτιού με αυτόν τον αριθμό υπνοδωματίων και μπάνιων. Υποθέστε ότι:\n",
    "\n",
    " - το αναμενόμενο κόστος για ένα σπίτι με 0 υπνοδωμάτια και 0 μπάνια είναι 20000.\n",
    " - κάθε υπνοδωμάτιο προσθέτει 10000 στο αναμενόμενο κόστος\n",
    " - κάθε μπάνιο προσθέτει 5000 στο αναμενόμενο κόστος.\n"
   ]
  },
  {
   "cell_type": "code",
   "execution_count": 3,
   "id": "e78cb1e2-89da-4504-a5f9-21350ee3ece1",
   "metadata": {},
   "outputs": [
    {
     "data": {
      "text/plain": [
       "180000"
      ]
     },
     "execution_count": 3,
     "metadata": {},
     "output_type": "execute_result"
    }
   ],
   "source": [
    "def get_expected_cost(bedrooms, baths):\n",
    "    value = 80000 + (bedrooms * 30000) + (baths * 10000)\n",
    "    return (value)\n",
    "\n",
    "get_expected_cost(3, 1)"
   ]
  },
  {
   "cell_type": "markdown",
   "id": "dd9f19f6-c4cd-4c47-9a61-7a06faca2b9e",
   "metadata": {},
   "source": [
    "## Question 2\n",
    "Σκέφτεστε να αγοράσετε ένα σπίτι και θέλετε να πάρετε μια ιδέα για το πόσα θα ξοδέψετε, με βάση τον αριθμό των υπνοδωματίων και των μπάνιων. Προσπαθείτε να αποφασίσετε ανάμεσα σε τέσσερις διαφορετικές επιλογές:\n",
    "- Επιλογή 1: σπίτι με δύο υπνοδωμάτια και τρία μπάνια\n",
    "- Επιλογή 2: σπίτι με τρία υπνοδωμάτια και δύο μπάνια\n",
    "- Επιλογή 3: σπίτι με τρία υπνοδωμάτια και τρία μπάνια\n",
    "- Επιλογή 4: σπίτι με τρία υπνοδωμάτια και τέσσερα μπάνια"
   ]
  },
  {
   "cell_type": "code",
   "execution_count": 4,
   "id": "3627e9b9-3389-42b2-a565-f8ee30b66d48",
   "metadata": {},
   "outputs": [
    {
     "name": "stdout",
     "output_type": "stream",
     "text": [
      "170000\n",
      "190000\n",
      "200000\n",
      "210000\n"
     ]
    }
   ],
   "source": [
    "# TODO: Use the get_expected_cost function to fill in each value\n",
    "option_one = get_expected_cost(2,3)\n",
    "option_two = get_expected_cost(3,2)\n",
    "option_three = get_expected_cost(3,3)\n",
    "option_four = get_expected_cost(3,4)\n",
    "\n",
    "print(option_one)\n",
    "print(option_two)\n",
    "print(option_three)\n",
    "print(option_four)\n"
   ]
  },
  {
   "cell_type": "markdown",
   "id": "036f4a40-ff96-4b1f-b3b8-99bfe9c25d02",
   "metadata": {},
   "source": [
    "## Question 3\n",
    "\n",
    "Είστε διακοσμητής σπιτιού και θα θέλατε να χρησιμοποιήσετε την Python για να βελτιώσετε κάποιες από τις δουλειές σας. Συγκεκριμένα, δημιουργείτε ένα εργαλείο που σκοπεύετε να χρησιμοποιήσετε για να υπολογίσετε το κόστος της βαφής ενός δωματίου.\n",
    "\n",
    "Ως πρώτο βήμα, ορίστε μια συνάρτηση `get_cost()` που λαμβάνει ως είσοδο:\n",
    "- `sqmt_walls` = συνολικά τετραγωνικά μέτρα τοίχων που πρέπει να βαφτούν\n",
    "- `sqmt_ceiling` = τετραγωνικά μέτρα οροφής που θα βαφτεί\n",
    "- `sqmt_per_ltr` = αριθμός τετραγωνικών μέτρων που μπορείτε να καλύψετε με ένα λίτρο χρώματος\n",
    "- `cost_per_ltr` = κόστος (σε ευρώ) ενός λίτρο χρώματος"
   ]
  },
  {
   "cell_type": "code",
   "execution_count": 6,
   "id": "caa2ec36-4527-4eae-90d7-0937198e51c3",
   "metadata": {},
   "outputs": [],
   "source": [
    "def get_cost(sqmt_walls, sqmt_ceiling, sqmt_per_ltr, cost_per_ltr):\n",
    "    cost = (sqmt_walls + sqmt_ceiling) / sqmt_per_ltr * cost_per_ltr\n",
    "\n",
    "    return cost\n",
    "\n"
   ]
  },
  {
   "cell_type": "markdown",
   "id": "7c0fc8ec-8a85-47c3-9987-5cd7ad24fa24",
   "metadata": {},
   "source": [
    "## Question 4\n",
    "\n",
    "Χρησιμοποιήστε τη συνάρτηση `get_cost()` που ορίσατε στην Ερώτηση 3 για να υπολογίσετε το κόστος εφαρμογής μιας στρώσης χρώματος σε ένα δωμάτιο με:\n",
    "- 144 τετραγωνικά μέτρα τοίχων, και\n",
    "- 80 τετραγωνικά μέτρα οροφής.\n",
    "\n",
    "Ας υποθέσουμε ότι ένα λίτρο χρώματος καλύπτει 40 τετραγωνικά μέτρα και κοστίζει 9 ευρώ. Όπως και στην Ερώτηση 3, υποθέστε ότι μπορείτε να αγοράσετε μερικά λίτρα χρώματος. Μην στρογγυλοποιείτε την απάντησή σας."
   ]
  },
  {
   "cell_type": "code",
   "execution_count": 8,
   "id": "38bb1936-faf0-4afe-b809-bdcd610d8d4d",
   "metadata": {},
   "outputs": [
    {
     "data": {
      "text/plain": [
       "21.599999999999998"
      ]
     },
     "execution_count": 8,
     "metadata": {},
     "output_type": "execute_result"
    }
   ],
   "source": [
    "# TODO: Set the project_cost variable to the cost of the project\n",
    "project_cost = get_cost(432, 144, 400, 15)\n",
    "\n",
    "project_cost"
   ]
  },
  {
   "cell_type": "markdown",
   "id": "82ec216b-2fbc-4a5e-9fec-d24ff7c25525",
   "metadata": {},
   "source": [
    "## 🌶️ Question 5\n",
    "\n",
    "\n",
    "Τώρα πείτε ότι δεν μπορείτε πλέον να αγοράσετε κλάσματα ενός λίτρου. (Για παράδειγμα, εάν χρειάζεστε 4,3 λίτρα για να κάνετε ένα βάψιμο, τότε πρέπει να αγοράσετε 5 λίτρα χρώματος.)\n",
    "\n",
    "Με αυτό το νέο σενάριο, θα δημιουργήσετε μια νέα συνάρτηση `get_actual_cost` που χρησιμοποιεί τις ίδιες εισόδους και υπολογίζει το κόστος του δουλειάς σας.\n",
    "\n",
    "Μια συνάρτηση που θα χρειαστεί να χρησιμοποιήσετε για να το κάνετε αυτό είναι η `math.ceil()`. Λαμβάνει τον αριθμό ως είσοδο και στρογγυλοποιεί τον αριθμό στον πλησιέστερο ακέραιο."
   ]
  },
  {
   "cell_type": "markdown",
   "id": "b9f6c0e1-bb91-47db-97a9-21184d7fd0bd",
   "metadata": {},
   "source": [
    "Εκτελέστε το επόμενο κελί κώδικα για να δοκιμάσετε μόνοι σας αυτήν τη λειτουργία. Μη διστάσετε να αλλάξετε την τιμή του `test_value` και βεβαιωθείτε ότι το `math.ceil()` επιστρέφει τον αριθμό που περιμένετε."
   ]
  },
  {
   "cell_type": "code",
   "execution_count": null,
   "id": "5a8f4a4a-071c-4bc4-abd9-dbc6d6905291",
   "metadata": {},
   "outputs": [],
   "source": [
    "test_value = 2.17\n",
    "\n",
    "rounded_value = math.ceil(test_value)\n",
    "print(rounded_value)"
   ]
  },
  {
   "cell_type": "code",
   "execution_count": 9,
   "id": "4217c81a-fa08-4b9d-9bec-9cfeac4e72ae",
   "metadata": {},
   "outputs": [],
   "source": [
    "def get_actual_cost(sqmt_walls, sqmt_ceiling,  sqmt_per_ltr, cost_per_ltr):\n",
    "    cost = math.ceil((sqmt_walls + sqmt_ceiling) / sqmt_per_ltr)* cost_per_ltr\n",
    "    return cost"
   ]
  },
  {
   "cell_type": "code",
   "execution_count": 10,
   "id": "2e8c5450-6036-42e2-815f-3162beeb6fce",
   "metadata": {},
   "outputs": [
    {
     "data": {
      "text/plain": [
       "30"
      ]
     },
     "execution_count": 10,
     "metadata": {},
     "output_type": "execute_result"
    }
   ],
   "source": [
    "get_actual_cost(432, 144, 400, 15) "
   ]
  },
  {
   "cell_type": "code",
   "execution_count": 11,
   "id": "bbd0d727-d214-46ce-9169-3560dbea205a",
   "metadata": {},
   "outputs": [
    {
     "data": {
      "text/plain": [
       "21.599999999999998"
      ]
     },
     "execution_count": 11,
     "metadata": {},
     "output_type": "execute_result"
    }
   ],
   "source": [
    "get_cost(432, 144, 400, 15) "
   ]
  }
 ],
 "metadata": {
  "kernelspec": {
   "display_name": "Python 3.10.6 ('exerc_venv': venv)",
   "language": "python",
   "name": "python3"
  },
  "language_info": {
   "codemirror_mode": {
    "name": "ipython",
    "version": 3
   },
   "file_extension": ".py",
   "mimetype": "text/x-python",
   "name": "python",
   "nbconvert_exporter": "python",
   "pygments_lexer": "ipython3",
   "version": "3.10.6"
  },
  "vscode": {
   "interpreter": {
    "hash": "859fa3b1593710b6eb4bbdb744343e4ffda11c820b11949b92adfdd7e56dcd1c"
   }
  }
 },
 "nbformat": 4,
 "nbformat_minor": 5
}
