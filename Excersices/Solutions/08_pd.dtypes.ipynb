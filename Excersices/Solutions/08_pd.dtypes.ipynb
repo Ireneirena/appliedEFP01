{
 "cells": [
  {
   "cell_type": "code",
   "execution_count": 2,
   "metadata": {},
   "outputs": [],
   "source": [
    "import pandas as pd"
   ]
  },
  {
   "cell_type": "code",
   "execution_count": 8,
   "metadata": {},
   "outputs": [],
   "source": [
    "reviews = pd.read_csv('../data/wine/winemag-data_first1000.csv', index_col=0)\n"
   ]
  },
  {
   "cell_type": "markdown",
   "metadata": {},
   "source": [
    "## Exercises"
   ]
  },
  {
   "cell_type": "markdown",
   "metadata": {},
   "source": [
    "## 1.\n",
    "Ποιος είναι ο τύπος δεδομένων της στήλης `points` στο σύνολο δεδομένων;"
   ]
  },
  {
   "cell_type": "code",
   "execution_count": 9,
   "metadata": {},
   "outputs": [
    {
     "data": {
      "text/plain": [
       "dtype('int64')"
      ]
     },
     "execution_count": 9,
     "metadata": {},
     "output_type": "execute_result"
    }
   ],
   "source": [
    "dtype = reviews.points.dtype\n",
    "\n",
    "dtype"
   ]
  },
  {
   "cell_type": "markdown",
   "metadata": {},
   "source": [
    "## 2.\n",
    "\n",
    "Δημιουργήστε μια σειρά από εγγραφές της στήλης `points`, αλλά μετατρέψτε τις εγγραφές σε συμβολοσειρές."
   ]
  },
  {
   "cell_type": "code",
   "execution_count": 13,
   "metadata": {},
   "outputs": [
    {
     "data": {
      "text/plain": [
       "0      87\n",
       "1      86\n",
       "2      85\n",
       "3      90\n",
       "4      87\n",
       "       ..\n",
       "995    85\n",
       "996    84\n",
       "997    94\n",
       "998    85\n",
       "999    83\n",
       "Name: points, Length: 1000, dtype: object"
      ]
     },
     "execution_count": 13,
     "metadata": {},
     "output_type": "execute_result"
    }
   ],
   "source": [
    "point_strings = reviews.points.astype('str')\n",
    "point_strings\n"
   ]
  },
  {
   "cell_type": "markdown",
   "metadata": {},
   "source": [
    "## 3. \n",
    "\n",
    "Μερικές φορές η στήλη της τιμής είναι κενή. Σε πόσες κριτικές στο σύνολο δεδομένων λείπει μια τιμή απο τη στήλη `price`;"
   ]
  },
  {
   "cell_type": "code",
   "execution_count": 15,
   "metadata": {},
   "outputs": [
    {
     "data": {
      "text/plain": [
       "81"
      ]
     },
     "execution_count": 15,
     "metadata": {},
     "output_type": "execute_result"
    }
   ],
   "source": [
    "n_missing_prices = reviews.price.isnull().sum()\n",
    "\n",
    "n_missing_prices"
   ]
  },
  {
   "cell_type": "code",
   "execution_count": null,
   "metadata": {},
   "outputs": [],
   "source": [
    "# OR\n",
    "missing_price_reviews = reviews[reviews.price.isnull()]\n",
    "n_missing_prices = len(missing_price_reviews)\n"
   ]
  },
  {
   "cell_type": "code",
   "execution_count": 16,
   "metadata": {},
   "outputs": [],
   "source": [
    "# OR\n",
    "n_missing_prices = reviews.price.isnull().sum()\n"
   ]
  },
  {
   "cell_type": "code",
   "execution_count": null,
   "metadata": {},
   "outputs": [],
   "source": [
    "# or equivalently:\n",
    "n_missing_prices = pd.isnull(reviews.price).sum()"
   ]
  },
  {
   "cell_type": "markdown",
   "metadata": {},
   "source": [
    "## 4. \n",
    "\n",
    "Ποιες είναι οι πιο κοινές οινοπαραγωγικές περιοχές; Δημιουργήστε μια σειρά μετρώντας πόσες φορές εμφανίζεται κάθε τιμή στο πεδίο `region_1`. Σε αυτό το πεδίο συχνά λείπουν δεδομένα, επομένως αντικαταστήστε τις τιμές που λείπουν με `Unknown`. Ταξινόμήστε σε φθίνουσα σειρά. "
   ]
  },
  {
   "cell_type": "code",
   "execution_count": 18,
   "metadata": {},
   "outputs": [
    {
     "data": {
      "text/plain": [
       "Unknown                 167\n",
       "Napa Valley              39\n",
       "Columbia Valley (WA)     36\n",
       "Paso Robles              28\n",
       "Russian River Valley     22\n",
       "                       ... \n",
       "Clear Lake                1\n",
       "Long Island               1\n",
       "Cilento                   1\n",
       "Alta Mesa                 1\n",
       "Charmes-Chambertin        1\n",
       "Name: region_1, Length: 289, dtype: int64"
      ]
     },
     "execution_count": 18,
     "metadata": {},
     "output_type": "execute_result"
    }
   ],
   "source": [
    "reviews_per_region = reviews.region_1.fillna('Unknown').value_counts().sort_values(ascending=False)\n",
    "\n",
    "reviews_per_region"
   ]
  }
 ],
 "metadata": {
  "kernelspec": {
   "display_name": "Python 3.10.6 64-bit",
   "language": "python",
   "name": "python3"
  },
  "language_info": {
   "codemirror_mode": {
    "name": "ipython",
    "version": 3
   },
   "file_extension": ".py",
   "mimetype": "text/x-python",
   "name": "python",
   "nbconvert_exporter": "python",
   "pygments_lexer": "ipython3",
   "version": "3.10.6"
  },
  "orig_nbformat": 4,
  "vscode": {
   "interpreter": {
    "hash": "916dbcbb3f70747c44a77c7bcd40155683ae19c65e1c03b4aa3499c5328201f1"
   }
  }
 },
 "nbformat": 4,
 "nbformat_minor": 2
}
