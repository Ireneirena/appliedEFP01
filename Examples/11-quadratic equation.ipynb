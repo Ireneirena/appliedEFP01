{
 "cells": [
  {
   "cell_type": "code",
   "execution_count": 1,
   "id": "7c643b95-e655-4903-a5fe-76e7f544d51a",
   "metadata": {},
   "outputs": [
    {
     "name": "stdin",
     "output_type": "stream",
     "text": [
      "Δώσε a =  8\n",
      "Δώσε b =  9\n",
      "Δώσε c =  6\n"
     ]
    },
    {
     "name": "stdout",
     "output_type": "stream",
     "text": [
      "Λύνω την εξίσωση  8 x**2 + 9 x + 6 = 0\n",
      "Η διακρίνουσα είναι Δ= -111\n",
      "Η εξίσωση δεν έχει πραγματικές λύσεις.\n",
      "x1= (-0.5625-0.6584783595532961j)\n",
      "x2= (-0.5625+0.6584783595532961j)\n",
      "ΤΕΛΟΣ ΠΡΟΓΡΑΜΜΑΤΟΣ\n"
     ]
    }
   ],
   "source": [
    "a=input('Δώσε a = ')\n",
    "b=input('Δώσε b = ')\n",
    "c=input('Δώσε c = ')\n",
    "print('Λύνω την εξίσωση ', a,'x**2 +',b,'x +',c,'= 0')\n",
    "a=int(a)\n",
    "b=int(b)\n",
    "c=int(c)\n",
    "if a==0:\n",
    "    if b==0:\n",
    "        if c==0:\n",
    "            print('Η εξίσωση είναι αόριστη.')\n",
    "        else:\n",
    "            print('Η εξίσωση είναι αδύνατη.')\n",
    "    else:\n",
    "        x=-c/b\n",
    "        print('Η εξίσωση έχει μια λύση, x=',x)\n",
    "else:\n",
    "    diak=b*b-4*a*c\n",
    "    print('Η διακρίνουσα είναι Δ=',diak)\n",
    "    if diak<0:\n",
    "        print('Η εξίσωση δεν έχει πραγματικές λύσεις.')\n",
    "    if diak==0:\n",
    "        print('Η εξίσωση έχει μια διπλή λύση.')\n",
    "    r = diak**0.5\n",
    "    x1=(-b-r)/(2*a)\n",
    "    x2=(-b+r)/(2*a)\n",
    "    print('x1=', x1)\n",
    "    print('x2=', x2)\n",
    "\n",
    "print('ΤΕΛΟΣ ΠΡΟΓΡΑΜΜΑΤΟΣ')"
   ]
  },
  {
   "cell_type": "code",
   "execution_count": null,
   "id": "825fa338-0417-4718-a216-7ea61f33aa67",
   "metadata": {},
   "outputs": [],
   "source": [
    "def diakrinousa(a,b,c):\n",
    "    D = b**2-4*a*c\n",
    "    return D"
   ]
  }
 ],
 "metadata": {
  "kernelspec": {
   "display_name": "Python 3 (ipykernel)",
   "language": "python",
   "name": "python3"
  },
  "language_info": {
   "codemirror_mode": {
    "name": "ipython",
    "version": 3
   },
   "file_extension": ".py",
   "mimetype": "text/x-python",
   "name": "python",
   "nbconvert_exporter": "python",
   "pygments_lexer": "ipython3",
   "version": "3.9.7"
  }
 },
 "nbformat": 4,
 "nbformat_minor": 5
}
